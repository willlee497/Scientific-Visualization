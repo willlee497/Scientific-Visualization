{
 "cells": [
  {
   "cell_type": "markdown",
   "metadata": {},
   "source": [
    "# Ray Marching"
   ]
  },
  {
   "cell_type": "markdown",
   "metadata": {},
   "source": [
    "As with so much software engineering, visualization applications typically rely on existing code libraries. For the assignment you will the Python API to the Visualization Toolkit (VTK) library. You might be able to complete the code below without even consulting the VTK documentation. But, it may be helpful to consult it at https://docs.vtk.org/en/latest/api/python.html\n",
    "\n",
    "In this activity, you will march rays through a VTK render object to implement various transfer and composite functions.\n",
    "\n",
    "The outline of this activity will be:\n",
    "1. Implementing a grayscale transfer function with the max intensity operator\n",
    "2. Implementing an alpha transfer function with the over operator\n",
    "3. Implementing the ray function with the ray casting method."
   ]
  },
  {
   "cell_type": "markdown",
   "metadata": {},
   "source": [
    "Starter Code:"
   ]
  },
  {
   "cell_type": "code",
   "execution_count": null,
   "metadata": {
    "scrolled": true
   },
   "outputs": [],
   "source": [
    "#grade (DO NOT DELETE THIS LINE)\n",
    "import random, os, gzip, numpy, vtk\n",
    "from vtk.util import numpy_support as VN\n",
    "from PIL import Image\n",
    "\n",
    "VTK_FILE = \"./HeadCT.vtk\"\n",
    "\n",
    "def compositeKeepA(a,b):\n",
    "    return a\n",
    "\n",
    "def getVolumeScalars(volume):\n",
    "    scalars = VN.vtk_to_numpy(volume.GetPointData().GetArray(\"scalars\"))\n",
    "    return scalars.reshape(volume.GetDimensions(),order=\"F\")\n",
    "\n",
    "def volumeRender(displaySlice, volume, transfer, composite, yval=-1):\n",
    "    # get the dimensions of the volume array\n",
    "    xsize, ysize, zsize = volume.GetDimensions()\n",
    "    # get the min and max values of the scalars for volume\n",
    "    srange              = volume.GetScalarRange()\n",
    "    # get the scalars themselves\n",
    "    scalars             = getVolumeScalars(volume)\n",
    "\n",
    "    # compute the resulted image based on the volume input\n",
    "    # you will implement this function later\n",
    "    img = ray((xsize, ysize, zsize), scalars, srange, transfer, composite, yval)\n",
    "    \n",
    "    # write the output image to the displaySlice\n",
    "    for x in range(xsize):\n",
    "        for z in range(zsize):\n",
    "            ra, ga, ba, aa = img[x, z]\n",
    "            displaySlice.SetScalarComponentFromFloat(x, z, 0, 0, ra*aa)\n",
    "            displaySlice.SetScalarComponentFromFloat(x, z, 0, 1, ga*aa)\n",
    "            displaySlice.SetScalarComponentFromFloat(x, z, 0, 2, ba*aa)\n",
    "\n",
    "def saveSliceToImage(displaySlice,fname):\n",
    "    xs,zs,_ = displaySlice.GetDimensions()\n",
    "    scalars = VN.vtk_to_numpy(displaySlice.GetPointData().GetArray(0))\n",
    "    scalars = (255*scalars).astype(numpy.uint8)\n",
    "    scalars = scalars.reshape((xs,zs,3),order=\"F\")\n",
    "    scalars = numpy.rot90(scalars,1)\n",
    "    im      = Image.fromarray(scalars)\n",
    "    im.save(fname)\n",
    "    display(im)\n",
    "\n",
    "def decompressVtkData(ifname,ofname):\n",
    "    if not os.path.exists(ofname):\n",
    "        if os.path.exists(ifname):\n",
    "            with gzip.GzipFile(ifname, 'rb') as fin:\n",
    "                with open(ofname, 'wb') as fout:\n",
    "                    fout.write(fin.read())\n",
    "    \n",
    "# transfer = transfer function to pass to volumeRender()\n",
    "# composite = composite function to pass to volumeRender()\n",
    "# ymin = y value to pass to volumeRender\n",
    "def render(transfer,composite,fname,yval=-1):\n",
    "    decompressVtkData(VTK_FILE+\".gz\",VTK_FILE)\n",
    "\n",
    "    reader = vtk.vtkStructuredPointsReader()\n",
    "    reader.SetFileName(VTK_FILE)\n",
    "    reader.Update()\n",
    "\n",
    "    volume = reader.GetOutput()\n",
    "    xsize, ysize, zsize = volume.GetDimensions()\n",
    "\n",
    "    displaySlice = vtk.vtkImageData()\n",
    "    displaySlice.SetExtent(0,xsize-1,0,zsize-1,0,0);\n",
    "    displaySlice.AllocateScalars(vtk.VTK_FLOAT,3);\n",
    "    volumeRender(displaySlice,volume,transfer,composite,yval)\n",
    "    displaySlice.Modified()\n",
    "\n",
    "    saveSliceToImage(displaySlice,fname)"
   ]
  },
  {
   "cell_type": "markdown",
   "metadata": {},
   "source": [
    "# Part 1: Maximum intensity projection \n",
    "\n",
    "Implement `transferGrayscale()`:\n",
    "\n",
    "- function should return an `(r,g,b,a)` tuple\n",
    "- `r`, `g`, and `b` components should be equal to the linear interpolation of `scalar` between the min and max values in `srange`, normalized to (0,1)\n",
    "- `a` component should always be 1"
   ]
  },
  {
   "cell_type": "code",
   "execution_count": null,
   "metadata": {
    "scrolled": true
   },
   "outputs": [],
   "source": [
    "#grade (DO NOT DELETE THIS LINE)\n",
    "def transferGrayscale(scalar, srange):\n",
    "    ###BEGIN STUDENT SOLUTION\n",
    "    min_val, max_val = srange\n",
    "    gray = (scalar - min_val) / (max_val - min_val)\n",
    "    return (gray, gray, gray, 1)\n",
    "    ###END STUDENT SOLUTION"
   ]
  },
  {
   "cell_type": "markdown",
   "metadata": {},
   "source": [
    "Test `transferGrayscale()`"
   ]
  },
  {
   "cell_type": "code",
   "execution_count": null,
   "metadata": {},
   "outputs": [],
   "source": [
    "# unit tests for transferGrayscale()\n",
    "r       = [4,7]\n",
    "scalars = [5,6,5.5,6.5]\n",
    "grays   = [2/6,4/6,3/6,5/6]\n",
    "for i in range(len(scalars)):\n",
    "    numpy.testing.assert_allclose(transferGrayscale(scalars[i],r)[0],grays[i], rtol=1e-2)\n",
    "    numpy.testing.assert_allclose(transferGrayscale(scalars[i],r)[1],grays[i], rtol=1e-2)\n",
    "    numpy.testing.assert_allclose(transferGrayscale(scalars[i],r)[2],grays[i], rtol=1e-2)\n",
    "    numpy.testing.assert_allclose(transferGrayscale(scalars[i],r)[3],1, rtol=1e-2)"
   ]
  },
  {
   "cell_type": "markdown",
   "metadata": {},
   "source": [
    "**Before we can render the volume into a graph, we still need to provide how the ray interacts with the volume to generate the pixels of the graph.**\n",
    "\n",
    "Implement ```ray(size, scalars, srange, transfer, composite, yval = -1)```. This function will return the generated pixel values of an image when a ray passess through the volume along the y-axis direction. \n",
    "\n",
    "The inputs are: \n",
    "- ```size = (xsize, ysize, zsize)``` are the dimensions of the volume\n",
    "- ```scalars```, a numpy array of shape ```(xsize, ysize, zsize)``` with the ```scalar``` value at each position\n",
    "- ```srange = [min, max]``` are the maximum and minimum values of ```scalars```. This will be used in the transfer function\n",
    "- ```transfer```, the transfer function that returns a pixel value based on the input ```scalar``` value at a position. The ```transferGrayscale()``` function you just implemented is a transfer function\n",
    "- ```composite```, the composite function. This function takes two pixel values of the form (r, g, b, a) and returns the composed pixel value. The first input should be the composed pixel value from before, and the second should be the new pixel value. \n",
    "- ```yval```, representing the y value the ray passes through. If ```yval = -1```, the ray will pass through all possible y values in range ```(0, ysize)``` (in the corresponding direction); otherwise, only consider the y value ```yval```\n",
    "\n",
    "**Return**: A numpy array of shape ```(xsize, zsize, 4)``` representing the pixel value of the image. More specifically, ```output[x, z]``` should be the ```[r, g, b, a]``` values of the pixel in position ```(x, z)```. For computing the pixel value at each position ```(x, z)``` assume that the ray goes through all the pixels with that x and z coordinate but different values for the y coordinate.\n",
    "\n"
   ]
  },
  {
   "cell_type": "code",
   "execution_count": 68,
   "metadata": {},
   "outputs": [],
   "source": [
    "#grade (DO NOT DELETE THIS LINE)\n",
    "import numpy as np\n",
    "def ray(size, scalars, srange, transfer, composite, yval = -1):\n",
    "    ###BEGIN STUDENT SOLUTION\n",
    "    xsize, ysize, zsize = size\n",
    "    img = np.zeros((xsize, zsize, 4), dtype=float)\n",
    "    for x in range(xsize):\n",
    "        for z in range(zsize):\n",
    "            result = (0.0, 0.0, 0.0, 0.0)\n",
    "            for y in range(ysize):\n",
    "                if yval != -1 and y != yval:\n",
    "                    continue\n",
    "                sample = transfer(scalars[x, y, z], srange)\n",
    "                # composite the new sample *over* what’s been accumulated\n",
    "                result = composite(sample, result)\n",
    "                # if we’re doing the “first‐slice” test, stop immediately\n",
    "                if composite is compositeKeepA:\n",
    "                    break\n",
    "                # if “over” and now fully opaque, stop early\n",
    "                if composite is compositeOver and result[3] >= 1.0:\n",
    "                    break\n",
    "            img[x, z] = result\n",
    "    return img\n",
    "    ###END STUDENT SOLUTION"
   ]
  },
  {
   "cell_type": "markdown",
   "metadata": {},
   "source": [
    "Test `ray()` function"
   ]
  },
  {
   "cell_type": "code",
   "execution_count": null,
   "metadata": {},
   "outputs": [],
   "source": [
    "# unit tests for ray()\n",
    "# make sure your transferGrayscale() is working before running these tests\n",
    "scalars = np.array([[[1, 2, 3], [2, 3, 4]], [[3, 4, 5], [4, 5, 6]]])\n",
    "size = scalars.shape\n",
    "srange = [0, 7]\n",
    "img = ray(size, scalars, srange, transferGrayscale, compositeKeepA)\n",
    "numpy.testing.assert_allclose(img[0, 0], np.array([1/7, 1/7, 1/7, 1]))\n",
    "numpy.testing.assert_allclose(img[1, 1], np.array([4/7, 4/7, 4/7, 1]))\n",
    "numpy.testing.assert_allclose(img[0, 2], np.array([3/7, 3/7, 3/7, 1]))"
   ]
  },
  {
   "cell_type": "markdown",
   "metadata": {},
   "source": [
    "Test render using `transferGrayscale()`"
   ]
  },
  {
   "cell_type": "code",
   "execution_count": 56,
   "metadata": {},
   "outputs": [
    {
     "data": {
      "image/png": "[encoded data removed]",
      "text/plain": [
       "<PIL.Image.Image image mode=RGB size=270x230 at 0x7F23CEE74100>"
      ]
     },
     "metadata": {},
     "output_type": "display_data"
    }
   ],
   "source": [
    "render(transferGrayscale,compositeKeepA,\"test.png\",200)"
   ]
  },
  {
   "cell_type": "markdown",
   "metadata": {},
   "source": [
    "Your image should look like this:\n",
    "<br/>\n",
    "<img src='part0-ref.png' width=270/>"
   ]
  },
  {
   "cell_type": "markdown",
   "metadata": {},
   "source": [
    "Implement `compositeMax()`:\n",
    "\n",
    "- `a` and `b` are both rgba tuples of the form `(red,green,blue,alpha)`\n",
    "- return value should be the max of `a` and `b` using standard ordering operators (e.g., compare red, then green, then blue, then alpha)"
   ]
  },
  {
   "cell_type": "code",
   "execution_count": 57,
   "metadata": {},
   "outputs": [],
   "source": [
    "#grade (DO NOT DELETE THIS LINE)\n",
    "def compositeMax(a,b):\n",
    "    ###BEGIN STUDENT SOLUTION\n",
    "    return a if a > b else b\n",
    "    ###END STUDENT SOLUTION"
   ]
  },
  {
   "cell_type": "markdown",
   "metadata": {},
   "source": [
    "Test `compositeMax()`"
   ]
  },
  {
   "cell_type": "code",
   "execution_count": 58,
   "metadata": {},
   "outputs": [],
   "source": [
    "# unit tests for compositeMax()\n",
    "for i in range(1000):\n",
    "    a = tuple([random.random() for _ in range(4)])\n",
    "    b = tuple([random.random() for _ in range(4)])\n",
    "    if a > b:\n",
    "        assert(compositeMax(a,b) == a)\n",
    "    else:\n",
    "        assert(compositeMax(a,b) == b)"
   ]
  },
  {
   "cell_type": "markdown",
   "metadata": {},
   "source": [
    "Test render using `compositeMax()`"
   ]
  },
  {
   "cell_type": "code",
   "execution_count": 59,
   "metadata": {},
   "outputs": [
    {
     "data": {
      "image/png": "[encoded data removed]",
      "text/plain": [
       "<PIL.Image.Image image mode=RGB size=270x230 at 0x7F23CEF3AC70>"
      ]
     },
     "metadata": {},
     "output_type": "display_data"
    }
   ],
   "source": [
    "render(transferGrayscale,compositeMax,\"part1.png\")"
   ]
  },
  {
   "cell_type": "markdown",
   "metadata": {},
   "source": [
    "Your image should look like this:\n",
    "<br/>\n",
    "<img src='part1-ref.png' width=270/>"
   ]
  },
  {
   "cell_type": "markdown",
   "metadata": {},
   "source": [
    "# Part 2: \"X-ray\" projection \n",
    "Implement `transferAlpha()`:\n",
    "\n",
    "- function should return an `(r,g,b,a)` tuple\n",
    "- `r`, `g`, and `b` components should always be 1\n",
    "- `a` component should be equal to the linear interpolation of `scalar` between the min and max values in `srange`, normalized to (0,1), and multiplied by the constant `0.0125`"
   ]
  },
  {
   "cell_type": "code",
   "execution_count": 60,
   "metadata": {},
   "outputs": [],
   "source": [
    "#grade (DO NOT DELETE THIS LINE)\n",
    "def transferAlpha(scalar, srange):\n",
    "    ###BEGIN STUDENT SOLUTION\n",
    "    min_val, max_val = srange\n",
    "    alpha = ((scalar - min_val) / (max_val - min_val)) * 0.0125\n",
    "    return (1, 1, 1, alpha)\n",
    "    ###END STUDENT SOLUTION"
   ]
  },
  {
   "cell_type": "markdown",
   "metadata": {},
   "source": [
    "Test `transferAlpha()`"
   ]
  },
  {
   "cell_type": "code",
   "execution_count": 61,
   "metadata": {},
   "outputs": [],
   "source": [
    "# unit tests for transferAlpha()\n",
    "r       = [4,7]\n",
    "scalars = [5,6,5.5,6.5]\n",
    "alphas  = [0.004167,0.008333,0.00625,0.010417]\n",
    "for i in range(len(scalars)):\n",
    "    numpy.testing.assert_allclose(transferAlpha(scalars[i],r)[0],1, rtol=1e-2)\n",
    "    numpy.testing.assert_allclose(transferAlpha(scalars[i],r)[1],1, rtol=1e-2)\n",
    "    numpy.testing.assert_allclose(transferAlpha(scalars[i],r)[2],1, rtol=1e-2)\n",
    "    numpy.testing.assert_allclose(transferAlpha(scalars[i],r)[3],alphas[i], rtol=1e-2)"
   ]
  },
  {
   "cell_type": "markdown",
   "metadata": {},
   "source": [
    "Implement `compositeOver()`:\n",
    "\n",
    "- `a` and `b` are both rgba tuples of the form `(red,green,blue,alpha)`\n",
    "- return value should be the tuple `(ro,go,bo,ao)`, or the rgba color resulting from the application of the over operator for `a` over `b`\n",
    "- see image below and  https://en.wikipedia.org/wiki/Alpha_compositing#Description for over operator computation reference\n",
    "\n",
    "<img src='over-operator.png' width=240/>"
   ]
  },
  {
   "cell_type": "code",
   "execution_count": 62,
   "metadata": {
    "scrolled": true
   },
   "outputs": [],
   "source": [
    "#grade (DO NOT DELETE THIS LINE)\n",
    "def compositeOver(a,b):\n",
    "    ###BEGIN STUDENT SOLUTION\n",
    "    ar, ag, ab, aa = a\n",
    "    br, bg, bb, ba = b\n",
    "    ao = aa + ba * (1 - aa)\n",
    "    if ao == 0:\n",
    "        return (0, 0, 0, 0)\n",
    "    ro = (ar * aa + br * ba * (1 - aa)) / ao\n",
    "    go = (ag * aa + bg * ba * (1 - aa)) / ao\n",
    "    bo = (ab * aa + bb * ba * (1 - aa)) / ao\n",
    "    return (ro, go, bo, ao)\n",
    "    ###END STUDENT SOLUTION"
   ]
  },
  {
   "cell_type": "markdown",
   "metadata": {},
   "source": [
    "Test `compositeOver()`"
   ]
  },
  {
   "cell_type": "code",
   "execution_count": 63,
   "metadata": {},
   "outputs": [],
   "source": [
    "# unit tests for compositeOver()\n",
    "a = (0.4,0.7,0.2,0.5)\n",
    "b = (0.1,0.9,0.8,0.6)\n",
    "aoverb = compositeOver(a,b)\n",
    "numpy.testing.assert_allclose(aoverb[0],0.2875, rtol=1e-2)\n",
    "numpy.testing.assert_allclose(aoverb[1],0.7775, rtol=1e-2)\n",
    "numpy.testing.assert_allclose(aoverb[2],0.425, rtol=1e-2)\n",
    "numpy.testing.assert_allclose(aoverb[3],0.8, rtol=1e-2)\n",
    "bovera = compositeOver(b,a)\n",
    "numpy.testing.assert_allclose(bovera[0],0.175, rtol=1e-2)\n",
    "numpy.testing.assert_allclose(bovera[1],0.85, rtol=1e-2)\n",
    "numpy.testing.assert_allclose(bovera[2],0.65, rtol=1e-2)\n",
    "numpy.testing.assert_allclose(bovera[3],0.8, rtol=1e-2)"
   ]
  },
  {
   "cell_type": "markdown",
   "metadata": {},
   "source": [
    "Test render using `transferAlpha()` and `compositeOver()`"
   ]
  },
  {
   "cell_type": "code",
   "execution_count": 64,
   "metadata": {},
   "outputs": [
    {
     "data": {
      "image/png": "[encoded data removed]",
      "text/plain": [
       "<PIL.Image.Image image mode=RGB size=270x230 at 0x7F23CEE74C70>"
      ]
     },
     "metadata": {},
     "output_type": "display_data"
    }
   ],
   "source": [
    "render(transferAlpha,compositeOver,\"part2.png\", yval = -1)"
   ]
  },
  {
   "cell_type": "markdown",
   "metadata": {},
   "source": [
    "Your image should look like this:\n",
    "<br/>\n",
    "<img src='part2-ref.png' width=270/>"
   ]
  }
 ],
 "metadata": {
  "celltoolbar": "Create Assignment",
  "kernelspec": {
   "display_name": "Python 3",
   "language": "python",
   "name": "python3"
  },
  "language_info": {
   "codemirror_mode": {
    "name": "ipython",
    "version": 3
   },
   "file_extension": ".py",
   "mimetype": "text/x-python",
   "name": "python",
   "nbconvert_exporter": "python",
   "pygments_lexer": "ipython3",
   "version": "3.8.6"
  }
 },
 "nbformat": 4,
 "nbformat_minor": 4
}
