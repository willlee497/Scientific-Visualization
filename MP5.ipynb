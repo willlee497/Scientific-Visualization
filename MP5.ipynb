{
 "cells": [
  {
   "cell_type": "markdown",
   "metadata": {
    "nbgrader": {
     "grade": false,
     "grade_id": "cell-766c2e1220e9232f",
     "locked": true,
     "schema_version": 3,
     "solution": false,
     "task": false
    }
   },
   "source": [
    "# Line Integral Convolution\n",
    "\n",
    "In this assignment, we will be implementing Line Integral Convolution (LIC), a technique for visualizing the flow of 2D vector fields developed by Brian Cabral and Leith Leedom. This technique was discussed in Week 10 of the course.\n",
    "\n",
    "See section 6.6 of *Data Visualization, 2nd Edition* by Alexandru C. Telea (accessible through UIUC Library sign-in at [this page](https://i-share-uiu.primo.exlibrisgroup.com/discovery/fulldisplay?docid=alma99763447212205899&context=L&vid=01CARLI_UIU:CARLI_UIU&lang=en&search_scope=MyInstitution&adaptor=Local%20Search%20Engine&tab=LibraryCatalog&query=any,contains,Data%20Visualization%20%20Alexandru%20C.%20Telea&offset=0)) for additional overviews of the algorithm.\n",
    "\n",
    "You can also refer to the original paper by Cabral and Leedom, which can be found [here](http://cs.brown.edu/courses/csci2370/2000/1999/cabral.pdf).\n",
    "\n",
    "You should review one or more of the resources mentioned above **prior to** starting this assignment, as we expect a basic understanding of LIC before implementing the functions below.\n",
    "\n",
    "As usual, we will begin by importing the necessary modules."
   ]
  },
  {
   "cell_type": "code",
   "execution_count": null,
   "metadata": {
    "nbgrader": {
     "grade": false,
     "grade_id": "cell-d565afff54390474",
     "locked": true,
     "schema_version": 3,
     "solution": false,
     "task": false
    }
   },
   "outputs": [],
   "source": [
    "#grade (DO NOT DELETE THIS LINE)\n",
    "import numpy as np\n",
    "import pylab as plt"
   ]
  },
  {
   "cell_type": "markdown",
   "metadata": {
    "nbgrader": {
     "grade": false,
     "grade_id": "cell-14a39b724b78a537",
     "locked": true,
     "schema_version": 3,
     "solution": false,
     "task": false
    }
   },
   "source": [
    "The vector field that we will be working with for this assignment is defined below. The code below essentially produces an array of vortices. See the end of this assignment for what the final LIC image of this vector field should look like."
   ]
  },
  {
   "cell_type": "code",
   "execution_count": null,
   "metadata": {
    "nbgrader": {
     "grade": false,
     "grade_id": "cell-e46d79de0ffd1a69",
     "locked": true,
     "schema_version": 3,
     "solution": false,
     "task": false
    }
   },
   "outputs": [],
   "source": [
    "size = 300\n",
    "\n",
    "vortex_spacing = 0.5\n",
    "extra_factor = 2.\n",
    "\n",
    "a = np.array([1,0])*vortex_spacing\n",
    "b = np.array([np.cos(np.pi/3),np.sin(np.pi/3)])*vortex_spacing\n",
    "rnv = int(2*extra_factor/vortex_spacing)\n",
    "vortices = [n*a+m*b for n in range(-rnv,rnv) for m in range(-rnv,rnv)]\n",
    "vortices = [(x,y) for (x,y) in vortices if -extra_factor<x<extra_factor and -extra_factor<y<extra_factor]\n",
    "\n",
    "\n",
    "xs = np.linspace(-1,1,size).astype(np.float64)[None,:]\n",
    "ys = np.linspace(-1,1,size).astype(np.float64)[:,None]\n",
    "\n",
    "vx = np.zeros((size,size),dtype=np.float64)\n",
    "vy = np.zeros((size,size),dtype=np.float64)\n",
    "for (x,y) in vortices:\n",
    "    rsq = (xs-x)**2+(ys-y)**2\n",
    "    vx +=  (ys-y)/rsq\n",
    "    vy += -(xs-x)/rsq"
   ]
  },
  {
   "cell_type": "markdown",
   "metadata": {
    "nbgrader": {
     "grade": false,
     "grade_id": "cell-437529473efae67f",
     "locked": true,
     "schema_version": 3,
     "solution": false,
     "task": false
    }
   },
   "source": [
    "LIC takes as input a noisy image or texture defined over the domain of the vector field we want to visualize and outputs an image that is blurred along the streamlines of the vector field. We will thus need to trace the streamlines for every pixel in the texture.\n",
    "\n",
    "In order to do so, let's first define and implement a function `advance` that will advance from one pixel to another in the direction of the vector associated with a given pixel within the vector field. This function should take 8 parameters:\n",
    "- `x` and `y` indicate the coordinates of the pixel we're currently on. Note that x corresponds to the column value and y corresponds to the row value. \n",
    "- `ux` and `uy` indicate the x and y components of the vector at the current pixel\n",
    "- `fx` and `fy` indicate the current subpixel position (treating the current pixel as a unit square where `(0,0)` represents the top-left of the pixel, while `(1,1)` represents the bottom-right of the pixel).\n",
    "- `nx` and `ny` indicate the total number of pixels along the x and y axes within the domain of the entire vector field.\n",
    "\n",
    "`advance()` should return a 4-tuple consisting of updated `x`, `y`, `fx`, and `fy` values. These values should be updated by:\n",
    "  1. reading the current pixel / subpixel position given by `x`, `y`, `fx`, and `fy`\n",
    "  2. calculating `tx` and `ty` as the time it takes to reach the next pixel along each axis given `fx`, `fy`, `ux` and `uy`\n",
    "  3. determining whether the next pixel reached will be on the x-axis or on the y-axis, and whether we are moving forward or backward along that axis\n",
    "  4. using `tx`, `ty`, `ux`, `uy`, and the results of step (3) to update `x`, `y`, `fx`, and `fy` in the same order we cross pixel boundaries after `min(tx,ty)` units of time (i.e., advance far enough to cross a pixel boundary and no farther)\n",
    "  \n",
    "Your implementation should also handle the two special cases where `advance()` would return a pixel outside the vector field, or where `ux` and `uy` are both zero vectors. In the first case, `x` and `y` should just be clamped to the boundaries of the vector field. In the second case, you could actually interpolate the vector field value at that pixel, but for the purpose of this assignment, you can just return `None`. **Rounding should not be needed or used within your implementation**."
   ]
  },
  {
   "cell_type": "markdown",
   "metadata": {},
   "source": [
    "**One working example of the ```advance()``` function**\n",
    "\n",
    "Suppose we are trying to calculate ```advance(0.2, 0.1, 0, 0, 0.3, 0.7, 10, 10)```. \n",
    "\n",
    "We first deal with the movement along the vector. The current subpixel position is $fy, fx = (0.7, 0.3)$, with the vector being $uy, ux = (0.1, 0.2)$. Calculating the time needed for each component: \n",
    "\n",
    "*y:* since movement along the y axis is positive, we want to stop when we reach $fy = 1$. The time needed is $(1 - 0.7) \\div 0.1 = 3$\n",
    "\n",
    "*x:* since movement along the x axis is positive, we want to stop when we reach $fx = 1$. The time needed is $(1 - 0.3) \\div 0.2 = 3.5$\n",
    "\n",
    "The time needed for y is shorter, so we will hit first axis in $3$ units of time. The movement is in the $(0.1, 0.2)$ direction, with $3$ units of time, giving the final position $(0.7, 0.3) + 3 \\times (0.1, 0.2) = (1, 0.9)$. The movement within the subpixel can be seen in this graph. \n",
    "\n",
    "<img src=\"advanceExample.png\" width=360px>\n",
    "\n",
    "Then we update the pixel position. The currect subpixel position is $fy = 1$ and $fx = 0.9$, so we have reached the next pixel along the y axis. As a result, y should be incremented by 1, giving $y = 1$, and $x = 0$ is kept the same. In the next pixel, the subpixel position will be $fy = 0$. \n",
    "\n",
    "Before returning, check for the bounds of x and y. In this case, $x = 0$ and $y = 1$ are both within the $10 \\times 10$ cell, so no clamping is needed. The returned value will be $(0, 1, 0.9, 0)$"
   ]
  },
  {
   "cell_type": "code",
   "execution_count": null,
   "metadata": {
    "nbgrader": {
     "grade": false,
     "grade_id": "advance",
     "locked": false,
     "schema_version": 3,
     "solution": true,
     "task": false
    }
   },
   "outputs": [],
   "source": [
    "#grade (DO NOT DELETE THIS LINE)\n",
    "def advance(ux, uy, x, y, fx, fy, nx, ny):\n",
    "    \"\"\"\n",
    "    Move to the next pixel in the direction of the vector at the current pixel.\n",
    "\n",
    "    Parameters\n",
    "    ----------\n",
    "    ux : float\n",
    "      Vector x component.\n",
    "    uy :float\n",
    "      Vector y component.\n",
    "    x : int\n",
    "      Pixel x index.\n",
    "    y : int\n",
    "      Pixel y index.\n",
    "    fx : float\n",
    "      Position along x in the pixel unit square.\n",
    "    fy : float\n",
    "      Position along y in the pixel unit square.\n",
    "    nx : int\n",
    "      Number of pixels along x.\n",
    "    ny : int\n",
    "      Number of pixels along y.\n",
    "    \n",
    "    Returns\n",
    "    -------\n",
    "    x : int\n",
    "      Updated pixel x index.\n",
    "    y : int\n",
    "      Updated pixel y index.\n",
    "    fx : float\n",
    "      Updated position along x in the pixel unit square.\n",
    "    fy : float\n",
    "      Updated position along y in the pixel unit square.\n",
    "    \"\"\"\n",
    "    ### BEGIN STUDENT SOLUTION\n",
    "    if ux == 0 and uy == 0:\n",
    "        return None\n",
    "\n",
    "    tx = float('inf')\n",
    "    ty = float('inf')\n",
    "\n",
    "    # Time to next x boundary\n",
    "    if ux > 0:\n",
    "        tx = (1 - fx) / ux\n",
    "    elif ux < 0:\n",
    "        tx = -fx / ux\n",
    "\n",
    "    # Time to next y boundary\n",
    "    if uy > 0:\n",
    "        ty = (1 - fy) / uy\n",
    "    elif uy < 0:\n",
    "        ty = -fy / uy\n",
    "\n",
    "    t = min(tx, ty)\n",
    "\n",
    "    # Advance along vector for time t\n",
    "    fx_new = fx + ux * t\n",
    "    fy_new = fy + uy * t\n",
    "\n",
    "    # Determine which boundary crossed and update x, y, fx, fy\n",
    "    if t == tx:\n",
    "        if ux > 0:\n",
    "            x += 1\n",
    "            fx_new = 0\n",
    "        else:\n",
    "            x -= 1\n",
    "            fx_new = 1\n",
    "    if t == ty:\n",
    "        if uy > 0:\n",
    "            y += 1\n",
    "            fy_new = 0\n",
    "        else:\n",
    "            y -= 1\n",
    "            fy_new = 1\n",
    "\n",
    "    # Clamp to bounds\n",
    "    x = min(max(x, 0), nx - 1)\n",
    "    y = min(max(y, 0), ny - 1)\n",
    "\n",
    "    return x, y, fx_new, fy_new\n",
    "    ### END STUDENT SOLUTION\n",
    "    "
   ]
  },
  {
   "cell_type": "code",
   "execution_count": null,
   "metadata": {
    "nbgrader": {
     "grade": true,
     "grade_id": "advance_test",
     "locked": true,
     "points": 5,
     "schema_version": 3,
     "solution": false,
     "task": false
    }
   },
   "outputs": [],
   "source": [
    "### Please DO NOT hard-code the answers as we will also be using hidden test cases when grading your submission.\n",
    "x_1, y_1, fx_1, fy_1 = advance(-19.09, 14.25, 0, 0, 0.5, 0.5, 10, 10)\n",
    "\n",
    "np.testing.assert_allclose(x_1, 0, atol=0.01,rtol=0)\n",
    "np.testing.assert_allclose(y_1, 0, atol=0.01,rtol=0)\n",
    "np.testing.assert_allclose(fx_1, 1, atol=0.01,rtol=0)\n",
    "np.testing.assert_allclose(fy_1, 0.873, atol=0.01,rtol=0)\n",
    "\n",
    "x_2, y_2, fx_2, fy_2 = advance(14.25, -10.53, 1, 0, 0, 0.13, 10, 10)\n",
    "\n",
    "np.testing.assert_allclose(x_2, 1, atol=0.01,rtol=0)\n",
    "np.testing.assert_allclose(y_2, 0, atol=0.01,rtol=0)\n",
    "np.testing.assert_allclose(fx_2, 0.176, atol=0.01,rtol=0)\n",
    "np.testing.assert_allclose(fy_2, 1, atol=0.01,rtol=0)\n",
    "\n",
    "x_3, y_3, fx_3, fy_3 = advance(-10.29, 10.59, 1, 1, 0.67, 0, 10, 10)\n",
    "\n",
    "np.testing.assert_allclose(x_3, 0, atol=0.01,rtol=0)\n",
    "np.testing.assert_allclose(y_3, 1, atol=0.01,rtol=0)\n",
    "np.testing.assert_allclose(fx_3, 1, atol=0.01,rtol=0)\n",
    "np.testing.assert_allclose(fy_3, 0.690, atol=0.01,rtol=0)"
   ]
  },
  {
   "cell_type": "markdown",
   "metadata": {
    "nbgrader": {
     "grade": false,
     "grade_id": "cell-fc30d5578cbc9b61",
     "locked": true,
     "schema_version": 3,
     "solution": false,
     "task": false
    }
   },
   "source": [
    "Next, let's define and implement the function `compute_streamline()`, which we will use to trace the streamline centered on a given pixel and apply the convolution kernel to the streamline. We will essentially take an average of the values at all of the pixels along the streamline (using the grey-values from our noisy input texture). These values should also be weighted by the kernel function, where the weight of the kernel function should decrease with distance away from the central pixel.\n",
    "\n",
    "This function takes 6 parameters:\n",
    "- `vx` and `vy` are 2D arrays containing the x- and y-components respectively of the vector field. \n",
    "- `px` and `py` indicate the coordinates of the pixel for which we are tracing the streamline.\n",
    "- `texture` indicates the input 2D texture that will be distorted by the vector field\n",
    "- `kernel` is a weighted convolution kernel (i.e., a 1D array symmetric around its middle element, where the middle element is the largest value and all other elements in the array are values decreasing with distance from the middle). The size of `kernel` is approximately `2L+1` where `L` is the fixed maximal distance in one direction (i.e. forward or backward) of the streamline.\n",
    "\n",
    "The `compute_streamline()` function should return the weighted sum of values at each pixel along the streamline centered on `(px,py)` by doing the following:\n",
    "  1. Initializing the subpixel position `(fx,fy)` to the center of the pixel `(px,py)`, where `fx` and `fy` function as in `advance()` above\n",
    "  2. Computing a running weighted sum of pixel values along a streamline, using `advance` to move to each next pixel in the streamline in either direction. Should be able to handle:\n",
    "    * Center pixel\n",
    "    * Forward direction (starting from center pixel, increasing to maximal distance L)\n",
    "    * Backward direction (starting from center pixel, decreasing to -L) (*hint*: negate the vector passed to `advance()`)\n",
    "    \n",
    "As before, you will need to handle the case of a zero vector (i.e., whenever it returns `None`) by halting forward / backward iteration along the streamline. \n",
    "\n",
    "You may assume that the shape of `vx`, `vy`, and `texture` are all identical. Also, note that the **2D arrays `vx`, `vy`, and `texture` are stored in memory in `(y,x)` order**, so be sure to index them properly.  As before, rounding should not be needed or used within your implementation.\n",
    "\n",
    "For reference, this function is effectively computing the numerator of Equation 6.14 in Section 6.6 of the [*Data Visualization* textbook](https://i-share-uiu.primo.exlibrisgroup.com/discovery/fulldisplay?docid=alma99763447212205899&context=L&vid=01CARLI_UIU:CARLI_UIU&lang=en&search_scope=MyInstitution&adaptor=Local%20Search%20Engine&tab=LibraryCatalog&query=any,contains,Data%20Visualization%20%20Alexandru%20C.%20Telea&offset=0). \n",
    "\n",
    "A visual reference from the textbook has been included below as well.\n",
    "\n",
    "<img src=\"fig6-24.png\" width=480px>"
   ]
  },
  {
   "cell_type": "code",
   "execution_count": null,
   "metadata": {
    "nbgrader": {
     "grade": false,
     "grade_id": "streamline",
     "locked": false,
     "schema_version": 3,
     "solution": true,
     "task": false
    }
   },
   "outputs": [],
   "source": [
    "#grade (DO NOT DELETE THIS LINE)\n",
    "def compute_streamline(vx, vy, texture, px, py, kernel):\n",
    "    \"\"\"\n",
    "    Return the convolution of the streamline for the given pixel (px, py).\n",
    "    \n",
    "    Parameters\n",
    "    ----------\n",
    "    vx : array (ny, nx)\n",
    "      Vector field x component.\n",
    "    vy : array (ny, nx)\n",
    "      Vector field y component.\n",
    "    texture : array (ny,nx)\n",
    "      The input texture image that will be distorted by the vector field.\n",
    "    px : int\n",
    "      Pixel x index.\n",
    "    py : int\n",
    "      Pixel y index.\n",
    "    kernel : 1D array\n",
    "      The convolution kernel: an array weighting the texture along\n",
    "      the stream line. The kernel should be\n",
    "      symmetric.\n",
    "    fx : float\n",
    "      Position along x in the pixel unit square.\n",
    "    fy : float\n",
    "      Position along y in the pixel unit square.\n",
    "    nx : int\n",
    "      Number of pixels along x.\n",
    "    ny : int\n",
    "      Number of pixels along y.    \n",
    "      \n",
    "    Returns\n",
    "    -------\n",
    "    sum : float\n",
    "      Weighted sum of values at each pixel along the streamline that starts at center of pixel (px,py)\n",
    "      \n",
    "    \"\"\"\n",
    "    ### BEGIN STUDENT SOLUTION\n",
    "    ny, nx = texture.shape\n",
    "    L = (len(kernel) - 1) // 2\n",
    "    result = 0.0\n",
    "\n",
    "    # Start at center pixel\n",
    "    x, y = px, py\n",
    "    fx, fy = 0.5, 0.5\n",
    "    result += kernel[L] * texture[y, x]\n",
    "\n",
    "    # Forward direction\n",
    "    x_f, y_f, fx_f, fy_f = x, y, fx, fy\n",
    "    for i in range(1, L+1):\n",
    "        ux = vx[y_f, x_f]\n",
    "        uy = vy[y_f, x_f]\n",
    "        adv = advance(ux, uy, x_f, y_f, fx_f, fy_f, nx, ny)\n",
    "        if adv is None:\n",
    "            break\n",
    "        x_f, y_f, fx_f, fy_f = adv\n",
    "        result += kernel[L + i] * texture[y_f, x_f]\n",
    "\n",
    "    # Backward direction\n",
    "    x_b, y_b, fx_b, fy_b = x, y, fx, fy\n",
    "    for i in range(1, L+1):\n",
    "        ux = -vx[y_b, x_b]\n",
    "        uy = -vy[y_b, x_b]\n",
    "        adv = advance(ux, uy, x_b, y_b, fx_b, fy_b, nx, ny)\n",
    "        if adv is None:\n",
    "            break\n",
    "        x_b, y_b, fx_b, fy_b = adv\n",
    "        result += kernel[L - i] * texture[y_b, x_b]\n",
    "\n",
    "    return result\n",
    "    ### END STUDENT SOLUTION"
   ]
  },
  {
   "cell_type": "code",
   "execution_count": null,
   "metadata": {
    "nbgrader": {
     "grade": true,
     "grade_id": "streamline_test",
     "locked": true,
     "points": 10,
     "schema_version": 3,
     "solution": false,
     "task": false
    }
   },
   "outputs": [],
   "source": [
    "### Please DO NOT hard-code the answers as we will also be using hidden test cases when grading your submission.\n",
    "size_test = 100\n",
    "\n",
    "# Generate 100x100 random noise texture\n",
    "np.random.seed(123)\n",
    "texture = np.random.rand(size_test, size_test).astype(np.float64)\n",
    "\n",
    "# Regenerate vector field with new dimensions\n",
    "xs = np.linspace(-1,1,size_test).astype(np.float64)[None,:]\n",
    "ys = np.linspace(-1,1,size_test).astype(np.float64)[:,None]\n",
    "\n",
    "vx = np.zeros((size_test,size_test),dtype=np.float64)\n",
    "vy = np.zeros((size_test,size_test),dtype=np.float64)\n",
    "for (x,y) in vortices:\n",
    "    rsq = (xs-x)**2+(ys-y)**2\n",
    "    vx +=  (ys-y)/rsq\n",
    "    vy += -(xs-x)/rsq\n",
    "    \n",
    "# Generate sinusoidal kernel function\n",
    "L = 5 #Radius of the kernel\n",
    "kernel = np.sin(np.arange(2*L+1)*np.pi/(2*L+1)).astype(np.float64)\n",
    "\n",
    "np.testing.assert_allclose(compute_streamline(vx, vy, texture, 9, 9, kernel), 3.622, atol=0.01,rtol=0)\n",
    "np.testing.assert_allclose(compute_streamline(vx, vy, texture, 30, 82, kernel), 5.417, atol=0.01,rtol=0)\n",
    "np.testing.assert_allclose(compute_streamline(vx, vy, texture, 99, 99, kernel), 4.573, atol=0.01,rtol=0)"
   ]
  },
  {
   "cell_type": "markdown",
   "metadata": {
    "nbgrader": {
     "grade": false,
     "grade_id": "cell-03823de67d8253a2",
     "locked": true,
     "schema_version": 3,
     "solution": false,
     "task": false
    }
   },
   "source": [
    "Finally, we will define and implement a function `lic()` that returns a 2D array corresponding to an image distorted by a vector field using some symmetric convolution kernel. As in the `compute_streamline()` function above:\n",
    "- `vx` and `vy` are 2D arrays containing the x- and y-components respectively of some vector field\n",
    "- `texture` indicates the input 2D texture that will be distorted by the vector field\n",
    "- `kernel` is the weighted convolution kernel itself.\n",
    "\n",
    "The `lic()` function should just iterate over each pixel in `texture`, computing the streamline at that pixel by using the output of `compute_streamline()` and normalizing it with respect to the sum of weights within `kernel` (i.e., computing the denominator of Equation 6.14 referenced above). Once again, rounding should not be needed or used within your implementation."
   ]
  },
  {
   "cell_type": "code",
   "execution_count": null,
   "metadata": {
    "nbgrader": {
     "grade": false,
     "grade_id": "LIC",
     "locked": false,
     "schema_version": 3,
     "solution": true,
     "task": false
    }
   },
   "outputs": [],
   "source": [
    "#grade (DO NOT DELETE THIS LINE)\n",
    "def lic(vx, vy, texture, kernel):\n",
    "    \"\"\"\n",
    "    Return an image of the texture array blurred along the local vector field orientation.\n",
    "    \n",
    "    Parameters\n",
    "    ----------\n",
    "    vx : array (ny, nx)\n",
    "      Vector field x component.\n",
    "    vy : array (ny, nx)\n",
    "      Vector field y component.\n",
    "    texture : array (ny,nx)\n",
    "      The input texture image that will be distorted by the vector field.\n",
    "    kernel : 1D array\n",
    "      The convolution kernel: an array weighting the texture along\n",
    "      the stream line. The kernel should be\n",
    "      symmetric.\n",
    "\n",
    "    Returns\n",
    "    -------\n",
    "    result : array(ny,nx)\n",
    "      An image of the texture convoluted along the vector field\n",
    "      streamlines.\n",
    "\n",
    "    \"\"\"\n",
    "    ### BEGIN STUDENT SOLUTION\n",
    "    ny, nx = texture.shape\n",
    "    result = np.zeros((ny, nx), dtype=np.float64)\n",
    "    kernel_sum = np.sum(kernel)\n",
    "\n",
    "    for y in range(ny):\n",
    "        for x in range(nx):\n",
    "            val = compute_streamline(vx, vy, texture, x, y, kernel)\n",
    "            result[y, x] = val / kernel_sum\n",
    "\n",
    "    return result\n",
    "    ### END STUDENT SOLUTION"
   ]
  },
  {
   "cell_type": "code",
   "execution_count": null,
   "metadata": {
    "nbgrader": {
     "grade": true,
     "grade_id": "lic_test",
     "locked": true,
     "points": 15,
     "schema_version": 3,
     "solution": false,
     "task": false
    },
    "scrolled": true
   },
   "outputs": [],
   "source": [
    "### Please DO NOT hard-code the answers as we will also be using hidden test cases when grading your submission.\n",
    "size_test = 100\n",
    "\n",
    "# Generate 100x100 random noise texture\n",
    "np.random.seed(123)\n",
    "texture = np.random.rand(size_test, size_test).astype(np.float64)\n",
    "\n",
    "# Regenerate vector field with new dimensions\n",
    "xs = np.linspace(-1,1,size_test).astype(np.float64)[None,:]\n",
    "ys = np.linspace(-1,1,size_test).astype(np.float64)[:,None]\n",
    "\n",
    "vx = np.zeros((size_test,size_test),dtype=np.float64)\n",
    "vy = np.zeros((size_test,size_test),dtype=np.float64)\n",
    "for (x,y) in vortices:\n",
    "    rsq = (xs-x)**2+(ys-y)**2\n",
    "    vx +=  (ys-y)/rsq\n",
    "    vy += -(xs-x)/rsq\n",
    "    \n",
    "# Generate sinusoidal kernel function\n",
    "L = 5 #Radius of the kernel\n",
    "kernel = np.sin(np.arange(2*L+1)*np.pi/(2*L+1)).astype(np.float64) \n",
    "\n",
    "result = lic(vx, vy, texture, kernel)\n",
    "\n",
    "np.testing.assert_allclose(result[50][50], 0.566, atol=0.01,rtol=0)\n",
    "np.testing.assert_allclose(result[99][99], 0.657, atol=0.01,rtol=0)\n",
    "np.testing.assert_allclose(result[28][36], 0.405, atol=0.01,rtol=0)"
   ]
  },
  {
   "cell_type": "markdown",
   "metadata": {
    "nbgrader": {
     "grade": false,
     "grade_id": "cell-f38339977c89bf73",
     "locked": true,
     "schema_version": 3,
     "solution": false,
     "task": false
    }
   },
   "source": [
    "We are now ready to test our line integral convolution! Below, we create a 300x300 array of random pixel noise."
   ]
  },
  {
   "cell_type": "code",
   "execution_count": null,
   "metadata": {
    "nbgrader": {
     "grade": false,
     "grade_id": "cell-b7e1c2b324bc2080",
     "locked": true,
     "schema_version": 3,
     "solution": false,
     "task": false
    }
   },
   "outputs": [],
   "source": [
    "size = 300\n",
    "\n",
    "np.random.seed(123)\n",
    "texture = np.random.rand(size, size).astype(np.float64)\n",
    "plt.imshow(texture, cmap=\"gray\")"
   ]
  },
  {
   "cell_type": "markdown",
   "metadata": {
    "nbgrader": {
     "grade": false,
     "grade_id": "cell-74b1fdf962166c07",
     "locked": true,
     "schema_version": 3,
     "solution": false,
     "task": false
    }
   },
   "source": [
    "Now let's regenerate our vector field (defined at the top of the notebook) to match the dimensions of our texture."
   ]
  },
  {
   "cell_type": "code",
   "execution_count": null,
   "metadata": {
    "nbgrader": {
     "grade": false,
     "grade_id": "cell-240286c60aae7ef2",
     "locked": true,
     "schema_version": 3,
     "solution": false,
     "task": false
    }
   },
   "outputs": [],
   "source": [
    "xs = np.linspace(-1,1,size).astype(np.float64)[None,:]\n",
    "ys = np.linspace(-1,1,size).astype(np.float64)[:,None]\n",
    "\n",
    "vx = np.zeros((size,size),dtype=np.float64)\n",
    "vy = np.zeros((size,size),dtype=np.float64)\n",
    "for (x,y) in vortices:\n",
    "    rsq = (xs-x)**2+(ys-y)**2\n",
    "    vx +=  (ys-y)/rsq\n",
    "    vy += -(xs-x)/rsq"
   ]
  },
  {
   "cell_type": "markdown",
   "metadata": {
    "nbgrader": {
     "grade": false,
     "grade_id": "cell-29c23fff760c8900",
     "locked": true,
     "schema_version": 3,
     "solution": false,
     "task": false
    }
   },
   "source": [
    "We will use the same sinusoidal kernel as with the tests for each function, but this time we will set the maximal distance `L` to be 10. This means the size of the kernel will be 2*L+1 = 21."
   ]
  },
  {
   "cell_type": "code",
   "execution_count": null,
   "metadata": {
    "nbgrader": {
     "grade": false,
     "grade_id": "cell-493ecbae233dfe4b",
     "locked": true,
     "schema_version": 3,
     "solution": false,
     "task": false
    }
   },
   "outputs": [],
   "source": [
    "L = 10 # Radius of the kernel\n",
    "kernel = np.sin(np.arange(2*L+1)*np.pi/(2*L+1)).astype(np.float64)"
   ]
  },
  {
   "cell_type": "markdown",
   "metadata": {
    "nbgrader": {
     "grade": false,
     "grade_id": "cell-126a9eafd8a35980",
     "locked": true,
     "schema_version": 3,
     "solution": false,
     "task": false
    }
   },
   "source": [
    "Finally, we will generate a new image using our kernel function, vector field, and random noise texture as all defined above. \n",
    "\n",
    "Please note that depending on how you implemented the functions above, generating this image may take anywhere between 5 and 60 seconds."
   ]
  },
  {
   "cell_type": "code",
   "execution_count": null,
   "metadata": {
    "nbgrader": {
     "grade": false,
     "grade_id": "cell-05c9676687ed19d2",
     "locked": true,
     "schema_version": 3,
     "solution": false,
     "task": false
    }
   },
   "outputs": [],
   "source": [
    "image = lic(vx, vy, texture, kernel)"
   ]
  },
  {
   "cell_type": "code",
   "execution_count": null,
   "metadata": {
    "nbgrader": {
     "grade": false,
     "grade_id": "cell-378737de8a835f7a",
     "locked": true,
     "schema_version": 3,
     "solution": false,
     "task": false
    }
   },
   "outputs": [],
   "source": [
    "plt.imshow(image, cmap='viridis')"
   ]
  },
  {
   "cell_type": "markdown",
   "metadata": {
    "nbgrader": {
     "grade": false,
     "grade_id": "cell-ecac45beccae960c",
     "locked": true,
     "schema_version": 3,
     "solution": false,
     "task": false
    }
   },
   "source": [
    "If your implementation is correct, you should see an image very similar to the one below.\n",
    "\n",
    "<img src='lic-image.PNG' width=\"300\"/>. \n"
   ]
  },
  {
   "cell_type": "markdown",
   "metadata": {},
   "source": [
    "This basic implementation of LIC does not consider the magnitude of the vectors or their sign. You can further experiment with this implementation by using magnitude to color the image, for example. The end of the lecture video on LIC provides a brief explanation for how you can do so."
   ]
  }
 ],
 "metadata": {
  "celltoolbar": "Create Assignment",
  "kernelspec": {
   "display_name": "Python 3",
   "language": "python",
   "name": "python3"
  },
  "language_info": {
   "codemirror_mode": {
    "name": "ipython",
    "version": 3
   },
   "file_extension": ".py",
   "mimetype": "text/x-python",
   "name": "python",
   "nbconvert_exporter": "python",
   "pygments_lexer": "ipython3",
   "version": "3.8.6"
  }
 },
 "nbformat": 4,
 "nbformat_minor": 4
}
